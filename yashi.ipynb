{
 "cells": [
  {
   "cell_type": "code",
   "execution_count": 1,
   "metadata": {},
   "outputs": [],
   "source": [
    "import numpy as np\n",
    "import random\n",
    "import matplotlib.pyplot as plt"
   ]
  },
  {
   "cell_type": "code",
   "execution_count": 2,
   "metadata": {},
   "outputs": [],
   "source": [
    "dim = 15\n",
    "grid = np.matrix(np.zeros((dim,dim)))\n",
    "\n",
    "generated_coord = set()\n",
    "\n",
    "while len(generated_coord) < 5*dim:\n",
    "    x = random.randint(0, dim-1)\n",
    "    y = random.randint(0, dim-1)\n",
    "    generated_coord.add((x, y))\n",
    "\n",
    "points = list(generated_coord)\n",
    "\n",
    "for point in points:\n",
    "    grid[point[0],point[1]] = 1"
   ]
  },
  {
   "cell_type": "code",
   "execution_count": 3,
   "metadata": {},
   "outputs": [
    {
     "data": {
      "image/png": "[encoded data removed]",
      "text/plain": [
       "<Figure size 640x480 with 1 Axes>"
      ]
     },
     "metadata": {},
     "output_type": "display_data"
    }
   ],
   "source": [
    "x_coords = [point[0] for point in list(generated_coord)]\n",
    "y_coords = [point[1] for point in list(generated_coord)]\n",
    "\n",
    "plt.scatter(x_coords, y_coords, color='black')\n",
    "\n",
    "plt.title('Yashi Grid')\n",
    "plt.xlim(-1, dim)\n",
    "plt.ylim(-1, dim)\n",
    "\n",
    "plt.xticks([])\n",
    "plt.yticks([])\n",
    "\n",
    "plt.show()"
   ]
  },
  {
   "cell_type": "code",
   "execution_count": 4,
   "metadata": {},
   "outputs": [],
   "source": [
    "def check_intersection(line1, line2):\n",
    "    (x1, y1), (x2, y2) = line1\n",
    "    (x3, y3), (x4, y4) = line2\n",
    "\n",
    "    return (min(x1, x2) < x3 < max(x1, x2) and min(y3, y4) < y1 < max(y3, y4)) or (min(y1, y2) < y3 < max(y1, y2) and min(x3, x4) < x1 < max(x3, x4))\n",
    "\n",
    "def check_overlap(line1, line2):\n",
    "    x1, y1 = line1[0]\n",
    "    x2, y2 = line1[1]\n",
    "    x3, y3 = line2[0]\n",
    "    x4, y4 = line2[1]\n",
    "\n",
    "    if y1 == y2 == y3 == y4:\n",
    "        if (min(x1, x2) < x3 < max(x1, x2)) or (min(x3, x4) < x1 < max(x3, x4)) or (min(x1, x2) < x4 < max(x1, x2)) or (min(x3, x4) < x2 < max(x3, x4)):\n",
    "            return True\n",
    "\n",
    "    if x1 == x2 == x3 == x4:\n",
    "        if (min(y1, y2) < y3 < max(y1, y2)) or (min(y3, y4) < y1 < max(y3, y4)) or (min(y1, y2) < y4 < max(y1, y2)) or (min(y3, y4) < y2 < max(y3, y4)):\n",
    "            return True\n",
    "\n",
    "    return False\n",
    "\n",
    "def is_point_on_line(point, line):\n",
    "    x, y = point\n",
    "    (x1, y1), (x2, y2) = line\n",
    "\n",
    "    if (y == y1 and min(x1, x2) < x < max(x1, x2)) or (x == x1 and min(y1, y2) < y < max(y1, y2)):\n",
    "        return True\n",
    "\n",
    "    return False\n",
    "\n",
    "def does_line_intersect_points(new_line, points):\n",
    "    return any(is_point_on_line(point, new_line) for point in points)\n"
   ]
  },
  {
   "cell_type": "code",
   "execution_count": 5,
   "metadata": {},
   "outputs": [],
   "source": [
    "def lines_to_undirected_graph(lines):\n",
    "    graph = {}\n",
    "\n",
    "    for line in lines:\n",
    "        start, end = line\n",
    "\n",
    "        if end in graph:\n",
    "            graph[end].append(start)\n",
    "        else:\n",
    "            graph[end] = [start]\n",
    "\n",
    "        if start in graph:\n",
    "            graph[start].append(end)\n",
    "        else:\n",
    "            graph[start] = [end]\n",
    "\n",
    "    return graph\n",
    "\n",
    "\n",
    "def has_cycle(lines):\n",
    "\n",
    "    graph = lines_to_undirected_graph(lines)\n",
    "    visited = set()\n",
    "    stack = [lines[-1][0]]\n",
    "\n",
    "    while stack:\n",
    "        node = stack.pop()\n",
    "\n",
    "        if node in visited:\n",
    "            return True\n",
    "\n",
    "        visited.add(node)\n",
    "        # Add unvisited neighbors to the stack\n",
    "        for neighbor in graph[node]:\n",
    "            if neighbor not in visited:\n",
    "                stack.append(neighbor)\n",
    "    \n",
    "    return False\n"
   ]
  },
  {
   "cell_type": "code",
   "execution_count": 6,
   "metadata": {},
   "outputs": [],
   "source": [
    "lines = []\n",
    "\n",
    "for idx_i, i in enumerate(points):\n",
    "    for idx_j, j in enumerate(points):\n",
    "        if (i[0] == j[0] or i[1] == j[1]) and idx_i != idx_j:\n",
    "            new_line = tuple(sorted((i, j)))\n",
    "            temp_list = lines + [new_line]\n",
    "            intersect = False\n",
    "            if len(lines) != 0:\n",
    "                if new_line not in lines and not has_cycle(temp_list):\n",
    "                    for line in lines:\n",
    "                        if check_intersection(new_line, line) or check_overlap(new_line, line) or does_line_intersect_points(new_line, points):\n",
    "                            intersect = True\n",
    "                            break\n",
    "                    if not intersect:\n",
    "                        lines.append(new_line)\n",
    "            else:\n",
    "                if not does_line_intersect_points(new_line, points):\n",
    "                    lines.append(new_line)"
   ]
  },
  {
   "cell_type": "code",
   "execution_count": 7,
   "metadata": {},
   "outputs": [],
   "source": [
    "def is_solved(lines, points):\n",
    "    graph = lines_to_undirected_graph(lines)\n",
    "    visited = set()\n",
    "    stack = [next(iter(graph.keys()))]\n",
    "\n",
    "    while stack:\n",
    "        node = stack.pop()\n",
    "        if node not in visited:\n",
    "            visited.add(node)\n",
    "            for neighbor in graph[node]:\n",
    "                stack.append(neighbor)\n",
    "    if len(visited) == len(points):\n",
    "        sol = 'solved!'\n",
    "    else:\n",
    "        sol = 'not solved :('\n",
    "\n",
    "    return sol"
   ]
  },
  {
   "cell_type": "code",
   "execution_count": 8,
   "metadata": {},
   "outputs": [
    {
     "data": {
      "image/png": "[encoded data removed]",
      "text/plain": [
       "<Figure size 640x480 with 1 Axes>"
      ]
     },
     "metadata": {},
     "output_type": "display_data"
    }
   ],
   "source": [
    "x_coords = [point[0] for point in points]\n",
    "y_coords = [point[1] for point in points]\n",
    "\n",
    "plt.scatter(x_coords, y_coords, color='black')\n",
    "#for i in points:\n",
    "#    plt.text(i[0], i[1], '({}, {})'.format(i[0], i[1]), fontsize=9)\n",
    "    \n",
    "for line in lines:\n",
    "    x_coords = [line[0][0], line[1][0]]\n",
    "    y_coords = [line[0][1], line[1][1]]\n",
    "    plt.plot(x_coords, y_coords, color='black', label='Lines')\n",
    "\n",
    "    \n",
    "plt.title('The puzzle was {}'.format(is_solved(lines, points)))\n",
    "plt.xlim(-1, dim)\n",
    "plt.ylim(-1, dim)\n",
    "\n",
    "plt.xticks([])\n",
    "plt.yticks([])\n",
    "\n",
    "plt.show()"
   ]
  }
 ],
 "metadata": {
  "kernelspec": {
   "display_name": "Python 3",
   "language": "python",
   "name": "python3"
  },
  "language_info": {
   "codemirror_mode": {
    "name": "ipython",
    "version": 3
   },
   "file_extension": ".py",
   "mimetype": "text/x-python",
   "name": "python",
   "nbconvert_exporter": "python",
   "pygments_lexer": "ipython3",
   "version": "3.10.11"
  },
  "orig_nbformat": 4
 },
 "nbformat": 4,
 "nbformat_minor": 2
}

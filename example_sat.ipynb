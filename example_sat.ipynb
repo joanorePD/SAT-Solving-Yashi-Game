{
 "cells": [
  {
   "cell_type": "code",
   "execution_count": 1,
   "metadata": {},
   "outputs": [
    {
     "name": "stdout",
     "output_type": "stream",
     "text": [
      "formula is satisfiable\n",
      "and the model is: [-1, -2]\n",
      "formula is unsatisfiable assuming x1 and x2\n",
      "and the unsatisfiable core is: [1]\n"
     ]
    }
   ],
   "source": [
    "\"\"\"\n",
    "This is a WebAssembly power Python shell,\n",
    "where you can try the examples in the browser:\n",
    "1. Type code in the input cell and press\n",
    "   Shift + Enter to execute;\n",
    "2. Or copy paste the code, and click on\n",
    "   the \"Run\" button in the toolbar\n",
    "3. By the way, TAB-based autocompletion works!\n",
    "\"\"\"\n",
    "\n",
    "# the standard way to import PySAT:\n",
    "from pysat.formula import CNF\n",
    "from pysat.solvers import Solver\n",
    "\n",
    "# create a satisfiable CNF formula \"(-x1 ∨ x2) ∧ (-x1 ∨ -x2)\":\n",
    "cnf = CNF(from_clauses=[[-1, 2], [-1, -2]])\n",
    "\n",
    "# create a SAT solver for this formula:\n",
    "with Solver(bootstrap_with=cnf) as solver:\n",
    "    # 1.1 call the solver for this formula:\n",
    "    print('formula is', f'{\"s\" if solver.solve() else \"uns\"}atisfiable')\n",
    "\n",
    "    # 1.2 the formula is satisfiable and so has a model:\n",
    "    print('and the model is:', solver.get_model())\n",
    "\n",
    "    # 2.1 apply the MiniSat-like assumption interface:\n",
    "    print('formula is',\n",
    "        f'{\"s\" if solver.solve(assumptions=[1, 2]) else \"uns\"}atisfiable',\n",
    "        'assuming x1 and x2')\n",
    "\n",
    "    # 2.2 the formula is unsatisfiable,\n",
    "    # i.e. an unsatisfiable core can be extracted:\n",
    "    print('and the unsatisfiable core is:', solver.get_core())"
   ]
  }
 ],
 "metadata": {
  "kernelspec": {
   "display_name": "Python 3",
   "language": "python",
   "name": "python3"
  },
  "language_info": {
   "codemirror_mode": {
    "name": "ipython",
    "version": 3
   },
   "file_extension": ".py",
   "mimetype": "text/x-python",
   "name": "python",
   "nbconvert_exporter": "python",
   "pygments_lexer": "ipython3",
   "version": "3.10.11"
  },
  "orig_nbformat": 4
 },
 "nbformat": 4,
 "nbformat_minor": 2
}

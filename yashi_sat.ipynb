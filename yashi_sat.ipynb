{
 "cells": [
  {
   "cell_type": "code",
   "execution_count": 5,
   "metadata": {},
   "outputs": [],
   "source": [
    "import pysat\n",
    "import numpy as np\n",
    "import random"
   ]
  },
  {
   "cell_type": "code",
   "execution_count": 9,
   "metadata": {},
   "outputs": [],
   "source": [
    "from pysat.solvers import Solver, Minisat22\n",
    "from pysat.card import CardEnc"
   ]
  },
  {
   "cell_type": "code",
   "execution_count": 10,
   "metadata": {},
   "outputs": [],
   "source": [
    "solver = Solver(name='m22')"
   ]
  },
  {
   "cell_type": "code",
   "execution_count": 6,
   "metadata": {},
   "outputs": [],
   "source": [
    "dim = 15\n",
    "grid = np.matrix(np.zeros((dim,dim)))\n",
    "\n",
    "generated_coord = set()\n",
    "\n",
    "while len(generated_coord) < 5*dim:\n",
    "    x = random.randint(0, dim-1)\n",
    "    y = random.randint(0, dim-1)\n",
    "    generated_coord.add((x, y))\n",
    "\n",
    "points = list(generated_coord)\n",
    "\n",
    "for point in points:\n",
    "    grid[point[0],point[1]] = 1"
   ]
  },
  {
   "cell_type": "code",
   "execution_count": 11,
   "metadata": {},
   "outputs": [
    {
     "ename": "AttributeError",
     "evalue": "'Solver' object has no attribute 'new_var'",
     "output_type": "error",
     "traceback": [
      "\u001b[0;31m---------------------------------------------------------------------------\u001b[0m",
      "\u001b[0;31mAttributeError\u001b[0m                            Traceback (most recent call last)",
      "Cell \u001b[0;32mIn[11], line 6\u001b[0m\n\u001b[1;32m      4\u001b[0m     \u001b[39mfor\u001b[39;00m point2 \u001b[39min\u001b[39;00m points:\n\u001b[1;32m      5\u001b[0m         \u001b[39mif\u001b[39;00m (point1, point2) \u001b[39mnot\u001b[39;00m \u001b[39min\u001b[39;00m bridge_variables:\n\u001b[0;32m----> 6\u001b[0m             bridge_variables[(point1, point2)] \u001b[39m=\u001b[39m solver\u001b[39m.\u001b[39;49mnew_var()\n\u001b[1;32m      8\u001b[0m \u001b[39m# Encode constraints\u001b[39;00m\n\u001b[1;32m      9\u001b[0m \u001b[39mfor\u001b[39;00m point \u001b[39min\u001b[39;00m points:\n\u001b[1;32m     10\u001b[0m     \u001b[39m# Bridge limit constraint\u001b[39;00m\n",
      "\u001b[0;31mAttributeError\u001b[0m: 'Solver' object has no attribute 'new_var'"
     ]
    }
   ],
   "source": [
    "# Create variables to represent bridges\n",
    "bridge_variables = {}\n",
    "for point1 in points:\n",
    "    for point2 in points:\n",
    "        if (point1, point2) not in bridge_variables:\n",
    "            bridge_variables[(point1, point2)] = solver.new_var()\n",
    "\n",
    "# Encode constraints\n",
    "for point in points:\n",
    "    # Bridge limit constraint\n",
    "    card_enc = CardEnc.atmost(limits[point])\n",
    "    clause = card_enc.encode(bridge_variables[(point1, point2)] for (point1, point2) in bridge_variables if point1 == point or point2 == point)\n",
    "    solver.add_clause(clause)\n",
    "\n",
    "    for bridge_count in range(len(points)):\n",
    "        # point number constraint\n",
    "        clause = [bridge_variables[(point1, point2)] for (point1, point2) in bridge_variables if point1 == point or point2 == point]\n",
    "        solver.add_clause(clause)\n",
    "\n",
    "    # Bridge connection constraint\n",
    "    for (point1, point2) in bridge_variables:\n",
    "        if point1 != point2:\n",
    "            clause = [-bridge_variables[(point1, point2)]]\n",
    "            for adjacent in get_adjacent_points(point):\n",
    "                clause.append(bridge_variables[(min(point, adjacent), max(point, adjacent))])\n",
    "            solver.add_clause(clause)\n",
    "\n",
    "# point connection constraint\n",
    "for (point1, point2) in bridge_variables:\n",
    "    if point1 != point2:\n",
    "        solver.add_clause([bridge_variables[(point1, point2)]])"
   ]
  }
 ],
 "metadata": {
  "kernelspec": {
   "display_name": "Python 3",
   "language": "python",
   "name": "python3"
  },
  "language_info": {
   "codemirror_mode": {
    "name": "ipython",
    "version": 3
   },
   "file_extension": ".py",
   "mimetype": "text/x-python",
   "name": "python",
   "nbconvert_exporter": "python",
   "pygments_lexer": "ipython3",
   "version": "3.10.11"
  },
  "orig_nbformat": 4
 },
 "nbformat": 4,
 "nbformat_minor": 2
}
